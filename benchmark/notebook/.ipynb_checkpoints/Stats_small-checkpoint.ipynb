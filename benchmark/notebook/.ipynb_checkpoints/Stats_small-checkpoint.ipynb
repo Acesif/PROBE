{
 "cells": [
  {
   "cell_type": "code",
   "execution_count": 1,
   "id": "aef0a418-f1e3-4ed0-969d-d21e950fd2e9",
   "metadata": {},
   "outputs": [
    {
     "name": "stderr",
     "output_type": "stream",
     "text": [
      "WARNING (pytensor.tensor.blas): Using NumPy C-API based implementation for BLAS functions.\n"
     ]
    }
   ],
   "source": [
    "import hashlib\n",
    "import pathlib\n",
    "import pymc  # type: ignore\n",
    "import arviz\n",
    "import numpy\n",
    "import matplotlib\n",
    "import matplotlib.pyplot\n",
    "import charmonium.time_block\n",
    "import os; os.chdir(\"..\")\n",
    "from prov_collectors import baseline\n",
    "from experiment import get_results\n",
    "from workloads import WORKLOADS\n",
    "from prov_collectors import PROV_COLLECTORS, baseline\n",
    "random_seed = 0\n",
    "cache = pathlib.Path(\".cache\")"
   ]
  },
  {
   "cell_type": "code",
   "execution_count": 10,
   "id": "515ec0df-4736-43a3-872c-bf37d979ecf3",
   "metadata": {},
   "outputs": [],
   "source": [
    "quality = 1"
   ]
  },
  {
   "cell_type": "code",
   "execution_count": 11,
   "id": "b5e2115a-498a-483c-8b5c-d2058b247d07",
   "metadata": {},
   "outputs": [
    {
     "data": {
      "text/plain": [
       "[<prov_collectors.NoProv at 0x7fc4a1022aa0>,\n",
       " <prov_collectors.STrace at 0x7fc4a1023c10>,\n",
       " <prov_collectors.FSATrace at 0x7fc4a1048040>,\n",
       " <prov_collectors.RR at 0x7fc4a10480a0>,\n",
       " <prov_collectors.Reprozip at 0x7fc4a10480d0>]"
      ]
     },
     "execution_count": 11,
     "metadata": {},
     "output_type": "execute_result"
    }
   ],
   "source": [
    "collectors = [\n",
    "    collector\n",
    "    for collector in PROV_COLLECTORS\n",
    "    if collector.name not in {\"ltrace\", \"cde\"}\n",
    "]\n",
    "collectors"
   ]
  },
  {
   "cell_type": "code",
   "execution_count": 12,
   "id": "cb726e11-0ff0-4fb0-b60a-5f97813f7e29",
   "metadata": {},
   "outputs": [
    {
     "data": {
      "text/plain": [
       "[<workloads.Cmds at 0x7fc4a0e78700>,\n",
       " <workloads.Cmds at 0x7fc4a0e78970>,\n",
       " <workloads.Cmds at 0x7fc4a0e78ac0>]"
      ]
     },
     "execution_count": 12,
     "metadata": {},
     "output_type": "execute_result"
    }
   ],
   "source": [
    "workloads = [\n",
    "    workload\n",
    "    for workload in WORKLOADS\n",
    "    if workload.name == \"tblastn-10\" or workload.name == \"python-imports\" or workload.name == \"blastx-10\"\n",
    "]\n",
    "workloads"
   ]
  },
  {
   "cell_type": "code",
   "execution_count": 13,
   "id": "76ba3099-4bc1-402c-856a-d6ab3149020f",
   "metadata": {},
   "outputs": [
    {
     "name": "stdout",
     "output_type": "stream",
     "text": [
      " > getting results: running\n"
     ]
    },
    {
     "name": "stderr",
     "output_type": "stream",
     "text": [
      "  0%|                                                                                                                           | 0/30 [00:00<?, ?it/s]"
     ]
    },
    {
     "name": "stdout",
     "output_type": "stream",
     "text": [
      " > getting results > setup python-imports: running\n",
      " > getting results > setup python-imports: 0.0s\n",
      " > getting results > setup strace: running\n",
      " > getting results > setup strace: 0.0s\n",
      " > getting results > python-imports in strace: running\n",
      " > getting results > python-imports in strace: 8.5s\n"
     ]
    },
    {
     "name": "stderr",
     "output_type": "stream",
     "text": [
      "DEBUG:charmonium.logger: > getting results > python-imports in strace: 8.5s\n"
     ]
    },
    {
     "name": "stdout",
     "output_type": "stream",
     "text": [
      " > getting results > parse strace: running\n"
     ]
    },
    {
     "name": "stderr",
     "output_type": "stream",
     "text": [
      "DEBUG:charmonium.logger: > getting results > parse strace: running\n"
     ]
    },
    {
     "name": "stdout",
     "output_type": "stream",
     "text": [
      " > getting results > parse strace: 1.2s\n"
     ]
    },
    {
     "name": "stderr",
     "output_type": "stream",
     "text": [
      "DEBUG:charmonium.logger: > getting results > parse strace: 1.2s\n",
      "  3%|███▊                                                                                                               | 1/30 [00:09<04:47,  9.93s/it]"
     ]
    },
    {
     "name": "stdout",
     "output_type": "stream",
     "text": [
      " > getting results > setup blastx-10: running\n"
     ]
    },
    {
     "name": "stderr",
     "output_type": "stream",
     "text": [
      "DEBUG:charmonium.logger: > getting results > setup blastx-10: running\n"
     ]
    },
    {
     "name": "stdout",
     "output_type": "stream",
     "text": [
      " > getting results > setup blastx-10: 0.0s\n"
     ]
    },
    {
     "name": "stderr",
     "output_type": "stream",
     "text": [
      "DEBUG:charmonium.logger: > getting results > setup blastx-10: 0.0s\n"
     ]
    },
    {
     "name": "stdout",
     "output_type": "stream",
     "text": [
      " > getting results > setup rr: running\n"
     ]
    },
    {
     "name": "stderr",
     "output_type": "stream",
     "text": [
      "DEBUG:charmonium.logger: > getting results > setup rr: running\n"
     ]
    },
    {
     "name": "stdout",
     "output_type": "stream",
     "text": [
      " > getting results > setup rr: 0.0s\n"
     ]
    },
    {
     "name": "stderr",
     "output_type": "stream",
     "text": [
      "DEBUG:charmonium.logger: > getting results > setup rr: 0.0s\n"
     ]
    },
    {
     "name": "stdout",
     "output_type": "stream",
     "text": [
      " > getting results > blastx-10 in rr: running\n"
     ]
    },
    {
     "name": "stderr",
     "output_type": "stream",
     "text": [
      "DEBUG:charmonium.logger: > getting results > blastx-10 in rr: running\n"
     ]
    },
    {
     "name": "stdout",
     "output_type": "stream",
     "text": [
      " > getting results > blastx-10 in rr: 328.2s\n"
     ]
    },
    {
     "name": "stderr",
     "output_type": "stream",
     "text": [
      "DEBUG:charmonium.logger: > getting results > blastx-10 in rr: 328.2s\n"
     ]
    },
    {
     "name": "stdout",
     "output_type": "stream",
     "text": [
      " > getting results > parse rr: running\n"
     ]
    },
    {
     "name": "stderr",
     "output_type": "stream",
     "text": [
      "DEBUG:charmonium.logger: > getting results > parse rr: running\n"
     ]
    },
    {
     "name": "stdout",
     "output_type": "stream",
     "text": [
      " > getting results > parse rr: 0.0s\n"
     ]
    },
    {
     "name": "stderr",
     "output_type": "stream",
     "text": [
      "DEBUG:charmonium.logger: > getting results > parse rr: 0.0s\n",
      "  7%|███████▍                                                                                                        | 2/30 [05:38<1:32:00, 197.17s/it]"
     ]
    },
    {
     "name": "stdout",
     "output_type": "stream",
     "text": [
      " > getting results > setup python-imports: running\n"
     ]
    },
    {
     "name": "stderr",
     "output_type": "stream",
     "text": [
      "DEBUG:charmonium.logger: > getting results > setup python-imports: running\n"
     ]
    },
    {
     "name": "stdout",
     "output_type": "stream",
     "text": [
      " > getting results > setup python-imports: 0.0s\n"
     ]
    },
    {
     "name": "stderr",
     "output_type": "stream",
     "text": [
      "DEBUG:charmonium.logger: > getting results > setup python-imports: 0.0s\n"
     ]
    },
    {
     "name": "stdout",
     "output_type": "stream",
     "text": [
      " > getting results > setup strace: running\n"
     ]
    },
    {
     "name": "stderr",
     "output_type": "stream",
     "text": [
      "DEBUG:charmonium.logger: > getting results > setup strace: running\n"
     ]
    },
    {
     "name": "stdout",
     "output_type": "stream",
     "text": [
      " > getting results > setup strace: 0.0s\n"
     ]
    },
    {
     "name": "stderr",
     "output_type": "stream",
     "text": [
      "DEBUG:charmonium.logger: > getting results > setup strace: 0.0s\n"
     ]
    },
    {
     "name": "stdout",
     "output_type": "stream",
     "text": [
      " > getting results > python-imports in strace: running\n"
     ]
    },
    {
     "name": "stderr",
     "output_type": "stream",
     "text": [
      "DEBUG:charmonium.logger: > getting results > python-imports in strace: running\n"
     ]
    },
    {
     "name": "stdout",
     "output_type": "stream",
     "text": [
      " > getting results > python-imports in strace: 7.7s\n"
     ]
    },
    {
     "name": "stderr",
     "output_type": "stream",
     "text": [
      "DEBUG:charmonium.logger: > getting results > python-imports in strace: 7.7s\n"
     ]
    },
    {
     "name": "stdout",
     "output_type": "stream",
     "text": [
      " > getting results > parse strace: running\n"
     ]
    },
    {
     "name": "stderr",
     "output_type": "stream",
     "text": [
      "DEBUG:charmonium.logger: > getting results > parse strace: running\n"
     ]
    },
    {
     "name": "stdout",
     "output_type": "stream",
     "text": [
      " > getting results > parse strace: 1.2s\n"
     ]
    },
    {
     "name": "stderr",
     "output_type": "stream",
     "text": [
      "DEBUG:charmonium.logger: > getting results > parse strace: 1.2s\n",
      " 10%|███████████▍                                                                                                      | 3/30 [05:47<50:05, 111.32s/it]"
     ]
    },
    {
     "name": "stdout",
     "output_type": "stream",
     "text": [
      " > getting results > setup tblastn-10: running\n"
     ]
    },
    {
     "name": "stderr",
     "output_type": "stream",
     "text": [
      "DEBUG:charmonium.logger: > getting results > setup tblastn-10: running\n"
     ]
    },
    {
     "name": "stdout",
     "output_type": "stream",
     "text": [
      " > getting results > setup tblastn-10: 0.0s\n"
     ]
    },
    {
     "name": "stderr",
     "output_type": "stream",
     "text": [
      "DEBUG:charmonium.logger: > getting results > setup tblastn-10: 0.0s\n"
     ]
    },
    {
     "name": "stdout",
     "output_type": "stream",
     "text": [
      " > getting results > setup no prov: running\n"
     ]
    },
    {
     "name": "stderr",
     "output_type": "stream",
     "text": [
      "DEBUG:charmonium.logger: > getting results > setup no prov: running\n"
     ]
    },
    {
     "name": "stdout",
     "output_type": "stream",
     "text": [
      " > getting results > setup no prov: 0.0s\n"
     ]
    },
    {
     "name": "stderr",
     "output_type": "stream",
     "text": [
      "DEBUG:charmonium.logger: > getting results > setup no prov: 0.0s\n"
     ]
    },
    {
     "name": "stdout",
     "output_type": "stream",
     "text": [
      " > getting results > tblastn-10 in no prov: running\n"
     ]
    },
    {
     "name": "stderr",
     "output_type": "stream",
     "text": [
      "DEBUG:charmonium.logger: > getting results > tblastn-10 in no prov: running\n"
     ]
    },
    {
     "name": "stdout",
     "output_type": "stream",
     "text": [
      " > getting results > tblastn-10 in no prov: 19.4s\n"
     ]
    },
    {
     "name": "stderr",
     "output_type": "stream",
     "text": [
      "DEBUG:charmonium.logger: > getting results > tblastn-10 in no prov: 19.4s\n"
     ]
    },
    {
     "name": "stdout",
     "output_type": "stream",
     "text": [
      " > getting results > parse no prov: running\n"
     ]
    },
    {
     "name": "stderr",
     "output_type": "stream",
     "text": [
      "DEBUG:charmonium.logger: > getting results > parse no prov: running\n"
     ]
    },
    {
     "name": "stdout",
     "output_type": "stream",
     "text": [
      " > getting results > parse no prov: 0.0s\n"
     ]
    },
    {
     "name": "stderr",
     "output_type": "stream",
     "text": [
      "DEBUG:charmonium.logger: > getting results > parse no prov: 0.0s\n",
      " 13%|███████████████▎                                                                                                   | 4/30 [06:06<32:31, 75.06s/it]"
     ]
    },
    {
     "name": "stdout",
     "output_type": "stream",
     "text": [
      " > getting results > setup tblastn-10: running\n"
     ]
    },
    {
     "name": "stderr",
     "output_type": "stream",
     "text": [
      "DEBUG:charmonium.logger: > getting results > setup tblastn-10: running\n"
     ]
    },
    {
     "name": "stdout",
     "output_type": "stream",
     "text": [
      " > getting results > setup tblastn-10: 0.0s\n"
     ]
    },
    {
     "name": "stderr",
     "output_type": "stream",
     "text": [
      "DEBUG:charmonium.logger: > getting results > setup tblastn-10: 0.0s\n"
     ]
    },
    {
     "name": "stdout",
     "output_type": "stream",
     "text": [
      " > getting results > setup strace: running\n"
     ]
    },
    {
     "name": "stderr",
     "output_type": "stream",
     "text": [
      "DEBUG:charmonium.logger: > getting results > setup strace: running\n"
     ]
    },
    {
     "name": "stdout",
     "output_type": "stream",
     "text": [
      " > getting results > setup strace: 0.0s\n"
     ]
    },
    {
     "name": "stderr",
     "output_type": "stream",
     "text": [
      "DEBUG:charmonium.logger: > getting results > setup strace: 0.0s\n"
     ]
    },
    {
     "name": "stdout",
     "output_type": "stream",
     "text": [
      " > getting results > tblastn-10 in strace: running\n"
     ]
    },
    {
     "name": "stderr",
     "output_type": "stream",
     "text": [
      "DEBUG:charmonium.logger: > getting results > tblastn-10 in strace: running\n"
     ]
    },
    {
     "name": "stdout",
     "output_type": "stream",
     "text": [
      " > getting results > tblastn-10 in strace: 21.2s\n"
     ]
    },
    {
     "name": "stderr",
     "output_type": "stream",
     "text": [
      "DEBUG:charmonium.logger: > getting results > tblastn-10 in strace: 21.2s\n"
     ]
    },
    {
     "name": "stdout",
     "output_type": "stream",
     "text": [
      " > getting results > parse strace: running\n"
     ]
    },
    {
     "name": "stderr",
     "output_type": "stream",
     "text": [
      "DEBUG:charmonium.logger: > getting results > parse strace: running\n"
     ]
    },
    {
     "name": "stdout",
     "output_type": "stream",
     "text": [
      " > getting results > parse strace: 0.1s\n"
     ]
    },
    {
     "name": "stderr",
     "output_type": "stream",
     "text": [
      "DEBUG:charmonium.logger: > getting results > parse strace: 0.1s\n",
      " 17%|███████████████████▏                                                                                               | 5/30 [06:28<23:12, 55.70s/it]"
     ]
    },
    {
     "name": "stdout",
     "output_type": "stream",
     "text": [
      " > getting results > setup python-imports: running\n"
     ]
    },
    {
     "name": "stderr",
     "output_type": "stream",
     "text": [
      "DEBUG:charmonium.logger: > getting results > setup python-imports: running\n"
     ]
    },
    {
     "name": "stdout",
     "output_type": "stream",
     "text": [
      " > getting results > setup python-imports: 0.0s\n"
     ]
    },
    {
     "name": "stderr",
     "output_type": "stream",
     "text": [
      "DEBUG:charmonium.logger: > getting results > setup python-imports: 0.0s\n"
     ]
    },
    {
     "name": "stdout",
     "output_type": "stream",
     "text": [
      " > getting results > setup no prov: running\n"
     ]
    },
    {
     "name": "stderr",
     "output_type": "stream",
     "text": [
      "DEBUG:charmonium.logger: > getting results > setup no prov: running\n"
     ]
    },
    {
     "name": "stdout",
     "output_type": "stream",
     "text": [
      " > getting results > setup no prov: 0.0s\n"
     ]
    },
    {
     "name": "stderr",
     "output_type": "stream",
     "text": [
      "DEBUG:charmonium.logger: > getting results > setup no prov: 0.0s\n"
     ]
    },
    {
     "name": "stdout",
     "output_type": "stream",
     "text": [
      " > getting results > python-imports in no prov: running\n"
     ]
    },
    {
     "name": "stderr",
     "output_type": "stream",
     "text": [
      "DEBUG:charmonium.logger: > getting results > python-imports in no prov: running\n"
     ]
    },
    {
     "name": "stdout",
     "output_type": "stream",
     "text": [
      " > getting results > python-imports in no prov: 6.9s\n"
     ]
    },
    {
     "name": "stderr",
     "output_type": "stream",
     "text": [
      "DEBUG:charmonium.logger: > getting results > python-imports in no prov: 6.9s\n"
     ]
    },
    {
     "name": "stdout",
     "output_type": "stream",
     "text": [
      " > getting results > parse no prov: running\n"
     ]
    },
    {
     "name": "stderr",
     "output_type": "stream",
     "text": [
      "DEBUG:charmonium.logger: > getting results > parse no prov: running\n"
     ]
    },
    {
     "name": "stdout",
     "output_type": "stream",
     "text": [
      " > getting results > parse no prov: 0.0s\n"
     ]
    },
    {
     "name": "stderr",
     "output_type": "stream",
     "text": [
      "DEBUG:charmonium.logger: > getting results > parse no prov: 0.0s\n",
      " 20%|███████████████████████                                                                                            | 6/30 [06:35<15:39, 39.15s/it]"
     ]
    },
    {
     "name": "stdout",
     "output_type": "stream",
     "text": [
      " > getting results > setup blastx-10: running\n"
     ]
    },
    {
     "name": "stderr",
     "output_type": "stream",
     "text": [
      "DEBUG:charmonium.logger: > getting results > setup blastx-10: running\n"
     ]
    },
    {
     "name": "stdout",
     "output_type": "stream",
     "text": [
      " > getting results > setup blastx-10: 0.0s\n"
     ]
    },
    {
     "name": "stderr",
     "output_type": "stream",
     "text": [
      "DEBUG:charmonium.logger: > getting results > setup blastx-10: 0.0s\n"
     ]
    },
    {
     "name": "stdout",
     "output_type": "stream",
     "text": [
      " > getting results > setup fsatrace: running\n"
     ]
    },
    {
     "name": "stderr",
     "output_type": "stream",
     "text": [
      "DEBUG:charmonium.logger: > getting results > setup fsatrace: running\n"
     ]
    },
    {
     "name": "stdout",
     "output_type": "stream",
     "text": [
      " > getting results > setup fsatrace: 0.0s\n"
     ]
    },
    {
     "name": "stderr",
     "output_type": "stream",
     "text": [
      "DEBUG:charmonium.logger: > getting results > setup fsatrace: 0.0s\n"
     ]
    },
    {
     "name": "stdout",
     "output_type": "stream",
     "text": [
      " > getting results > blastx-10 in fsatrace: running\n"
     ]
    },
    {
     "name": "stderr",
     "output_type": "stream",
     "text": [
      "DEBUG:charmonium.logger: > getting results > blastx-10 in fsatrace: running\n"
     ]
    },
    {
     "name": "stdout",
     "output_type": "stream",
     "text": [
      " > getting results > blastx-10 in fsatrace: 302.2s\n"
     ]
    },
    {
     "name": "stderr",
     "output_type": "stream",
     "text": [
      "DEBUG:charmonium.logger: > getting results > blastx-10 in fsatrace: 302.2s\n"
     ]
    },
    {
     "name": "stdout",
     "output_type": "stream",
     "text": [
      " > getting results > parse fsatrace: running\n"
     ]
    },
    {
     "name": "stderr",
     "output_type": "stream",
     "text": [
      "DEBUG:charmonium.logger: > getting results > parse fsatrace: running\n"
     ]
    },
    {
     "name": "stdout",
     "output_type": "stream",
     "text": [
      " > getting results > parse fsatrace: 0.0s\n"
     ]
    },
    {
     "name": "stderr",
     "output_type": "stream",
     "text": [
      "DEBUG:charmonium.logger: > getting results > parse fsatrace: 0.0s\n",
      " 23%|██████████████████████████▌                                                                                       | 7/30 [11:37<47:59, 125.18s/it]"
     ]
    },
    {
     "name": "stdout",
     "output_type": "stream",
     "text": [
      " > getting results > setup tblastn-10: running\n"
     ]
    },
    {
     "name": "stderr",
     "output_type": "stream",
     "text": [
      "DEBUG:charmonium.logger: > getting results > setup tblastn-10: running\n"
     ]
    },
    {
     "name": "stdout",
     "output_type": "stream",
     "text": [
      " > getting results > setup tblastn-10: 0.0s\n"
     ]
    },
    {
     "name": "stderr",
     "output_type": "stream",
     "text": [
      "DEBUG:charmonium.logger: > getting results > setup tblastn-10: 0.0s\n"
     ]
    },
    {
     "name": "stdout",
     "output_type": "stream",
     "text": [
      " > getting results > setup rr: running\n"
     ]
    },
    {
     "name": "stderr",
     "output_type": "stream",
     "text": [
      "DEBUG:charmonium.logger: > getting results > setup rr: running\n"
     ]
    },
    {
     "name": "stdout",
     "output_type": "stream",
     "text": [
      " > getting results > setup rr: 0.0s\n"
     ]
    },
    {
     "name": "stderr",
     "output_type": "stream",
     "text": [
      "DEBUG:charmonium.logger: > getting results > setup rr: 0.0s\n"
     ]
    },
    {
     "name": "stdout",
     "output_type": "stream",
     "text": [
      " > getting results > tblastn-10 in rr: running\n"
     ]
    },
    {
     "name": "stderr",
     "output_type": "stream",
     "text": [
      "DEBUG:charmonium.logger: > getting results > tblastn-10 in rr: running\n"
     ]
    },
    {
     "name": "stdout",
     "output_type": "stream",
     "text": [
      " > getting results > tblastn-10 in rr: 33.6s\n"
     ]
    },
    {
     "name": "stderr",
     "output_type": "stream",
     "text": [
      "DEBUG:charmonium.logger: > getting results > tblastn-10 in rr: 33.6s\n"
     ]
    },
    {
     "name": "stdout",
     "output_type": "stream",
     "text": [
      " > getting results > parse rr: running\n"
     ]
    },
    {
     "name": "stderr",
     "output_type": "stream",
     "text": [
      "DEBUG:charmonium.logger: > getting results > parse rr: running\n"
     ]
    },
    {
     "name": "stdout",
     "output_type": "stream",
     "text": [
      " > getting results > parse rr: 0.0s\n"
     ]
    },
    {
     "name": "stderr",
     "output_type": "stream",
     "text": [
      "DEBUG:charmonium.logger: > getting results > parse rr: 0.0s\n",
      " 27%|██████████████████████████████▋                                                                                    | 8/30 [12:11<35:12, 96.04s/it]"
     ]
    },
    {
     "name": "stdout",
     "output_type": "stream",
     "text": [
      " > getting results > setup tblastn-10: running\n"
     ]
    },
    {
     "name": "stderr",
     "output_type": "stream",
     "text": [
      "DEBUG:charmonium.logger: > getting results > setup tblastn-10: running\n"
     ]
    },
    {
     "name": "stdout",
     "output_type": "stream",
     "text": [
      " > getting results > setup tblastn-10: 0.0s\n"
     ]
    },
    {
     "name": "stderr",
     "output_type": "stream",
     "text": [
      "DEBUG:charmonium.logger: > getting results > setup tblastn-10: 0.0s\n"
     ]
    },
    {
     "name": "stdout",
     "output_type": "stream",
     "text": [
      " > getting results > setup reprozip: running\n"
     ]
    },
    {
     "name": "stderr",
     "output_type": "stream",
     "text": [
      "DEBUG:charmonium.logger: > getting results > setup reprozip: running\n"
     ]
    },
    {
     "name": "stdout",
     "output_type": "stream",
     "text": [
      " > getting results > setup reprozip: 0.5s\n"
     ]
    },
    {
     "name": "stderr",
     "output_type": "stream",
     "text": [
      "DEBUG:charmonium.logger: > getting results > setup reprozip: 0.5s\n"
     ]
    },
    {
     "name": "stdout",
     "output_type": "stream",
     "text": [
      " > getting results > tblastn-10 in reprozip: running\n"
     ]
    },
    {
     "name": "stderr",
     "output_type": "stream",
     "text": [
      "DEBUG:charmonium.logger: > getting results > tblastn-10 in reprozip: running\n"
     ]
    },
    {
     "name": "stdout",
     "output_type": "stream",
     "text": [
      " > getting results > tblastn-10 in reprozip: 19.9s\n"
     ]
    },
    {
     "name": "stderr",
     "output_type": "stream",
     "text": [
      "DEBUG:charmonium.logger: > getting results > tblastn-10 in reprozip: 19.9s\n"
     ]
    },
    {
     "name": "stdout",
     "output_type": "stream",
     "text": [
      " > getting results > parse reprozip: running\n"
     ]
    },
    {
     "name": "stderr",
     "output_type": "stream",
     "text": [
      "DEBUG:charmonium.logger: > getting results > parse reprozip: running\n"
     ]
    },
    {
     "name": "stdout",
     "output_type": "stream",
     "text": [
      " > getting results > parse reprozip: 0.1s\n"
     ]
    },
    {
     "name": "stderr",
     "output_type": "stream",
     "text": [
      "DEBUG:charmonium.logger: > getting results > parse reprozip: 0.1s\n",
      " 30%|██████████████████████████████████▌                                                                                | 9/30 [12:31<25:21, 72.44s/it]"
     ]
    },
    {
     "name": "stdout",
     "output_type": "stream",
     "text": [
      " > getting results > setup tblastn-10: running\n"
     ]
    },
    {
     "name": "stderr",
     "output_type": "stream",
     "text": [
      "DEBUG:charmonium.logger: > getting results > setup tblastn-10: running\n"
     ]
    },
    {
     "name": "stdout",
     "output_type": "stream",
     "text": [
      " > getting results > setup tblastn-10: 0.0s\n"
     ]
    },
    {
     "name": "stderr",
     "output_type": "stream",
     "text": [
      "DEBUG:charmonium.logger: > getting results > setup tblastn-10: 0.0s\n"
     ]
    },
    {
     "name": "stdout",
     "output_type": "stream",
     "text": [
      " > getting results > setup reprozip: running\n"
     ]
    },
    {
     "name": "stderr",
     "output_type": "stream",
     "text": [
      "DEBUG:charmonium.logger: > getting results > setup reprozip: running\n"
     ]
    },
    {
     "name": "stdout",
     "output_type": "stream",
     "text": [
      " > getting results > setup reprozip: 0.4s\n"
     ]
    },
    {
     "name": "stderr",
     "output_type": "stream",
     "text": [
      "DEBUG:charmonium.logger: > getting results > setup reprozip: 0.4s\n"
     ]
    },
    {
     "name": "stdout",
     "output_type": "stream",
     "text": [
      " > getting results > tblastn-10 in reprozip: running\n"
     ]
    },
    {
     "name": "stderr",
     "output_type": "stream",
     "text": [
      "DEBUG:charmonium.logger: > getting results > tblastn-10 in reprozip: running\n"
     ]
    },
    {
     "name": "stdout",
     "output_type": "stream",
     "text": [
      " > getting results > tblastn-10 in reprozip: 19.8s\n"
     ]
    },
    {
     "name": "stderr",
     "output_type": "stream",
     "text": [
      "DEBUG:charmonium.logger: > getting results > tblastn-10 in reprozip: 19.8s\n"
     ]
    },
    {
     "name": "stdout",
     "output_type": "stream",
     "text": [
      " > getting results > parse reprozip: running\n"
     ]
    },
    {
     "name": "stderr",
     "output_type": "stream",
     "text": [
      "DEBUG:charmonium.logger: > getting results > parse reprozip: running\n"
     ]
    },
    {
     "name": "stdout",
     "output_type": "stream",
     "text": [
      " > getting results > parse reprozip: 0.1s\n"
     ]
    },
    {
     "name": "stderr",
     "output_type": "stream",
     "text": [
      "DEBUG:charmonium.logger: > getting results > parse reprozip: 0.1s\n",
      " 33%|██████████████████████████████████████                                                                            | 10/30 [12:52<18:47, 56.36s/it]"
     ]
    },
    {
     "name": "stdout",
     "output_type": "stream",
     "text": [
      " > getting results > setup tblastn-10: running\n"
     ]
    },
    {
     "name": "stderr",
     "output_type": "stream",
     "text": [
      "DEBUG:charmonium.logger: > getting results > setup tblastn-10: running\n"
     ]
    },
    {
     "name": "stdout",
     "output_type": "stream",
     "text": [
      " > getting results > setup tblastn-10: 0.0s\n"
     ]
    },
    {
     "name": "stderr",
     "output_type": "stream",
     "text": [
      "DEBUG:charmonium.logger: > getting results > setup tblastn-10: 0.0s\n"
     ]
    },
    {
     "name": "stdout",
     "output_type": "stream",
     "text": [
      " > getting results > setup strace: running\n"
     ]
    },
    {
     "name": "stderr",
     "output_type": "stream",
     "text": [
      "DEBUG:charmonium.logger: > getting results > setup strace: running\n"
     ]
    },
    {
     "name": "stdout",
     "output_type": "stream",
     "text": [
      " > getting results > setup strace: 0.0s\n"
     ]
    },
    {
     "name": "stderr",
     "output_type": "stream",
     "text": [
      "DEBUG:charmonium.logger: > getting results > setup strace: 0.0s\n"
     ]
    },
    {
     "name": "stdout",
     "output_type": "stream",
     "text": [
      " > getting results > tblastn-10 in strace: running\n"
     ]
    },
    {
     "name": "stderr",
     "output_type": "stream",
     "text": [
      "DEBUG:charmonium.logger: > getting results > tblastn-10 in strace: running\n"
     ]
    },
    {
     "name": "stdout",
     "output_type": "stream",
     "text": [
      " > getting results > tblastn-10 in strace: 18.8s\n"
     ]
    },
    {
     "name": "stderr",
     "output_type": "stream",
     "text": [
      "DEBUG:charmonium.logger: > getting results > tblastn-10 in strace: 18.8s\n"
     ]
    },
    {
     "name": "stdout",
     "output_type": "stream",
     "text": [
      " > getting results > parse strace: running\n"
     ]
    },
    {
     "name": "stderr",
     "output_type": "stream",
     "text": [
      "DEBUG:charmonium.logger: > getting results > parse strace: running\n"
     ]
    },
    {
     "name": "stdout",
     "output_type": "stream",
     "text": [
      " > getting results > parse strace: 0.1s\n"
     ]
    },
    {
     "name": "stderr",
     "output_type": "stream",
     "text": [
      "DEBUG:charmonium.logger: > getting results > parse strace: 0.1s\n",
      " 37%|█████████████████████████████████████████▊                                                                        | 11/30 [13:11<14:13, 44.92s/it]"
     ]
    },
    {
     "name": "stdout",
     "output_type": "stream",
     "text": [
      " > getting results > setup blastx-10: running\n"
     ]
    },
    {
     "name": "stderr",
     "output_type": "stream",
     "text": [
      "DEBUG:charmonium.logger: > getting results > setup blastx-10: running\n"
     ]
    },
    {
     "name": "stdout",
     "output_type": "stream",
     "text": [
      " > getting results > setup blastx-10: 0.0s\n"
     ]
    },
    {
     "name": "stderr",
     "output_type": "stream",
     "text": [
      "DEBUG:charmonium.logger: > getting results > setup blastx-10: 0.0s\n"
     ]
    },
    {
     "name": "stdout",
     "output_type": "stream",
     "text": [
      " > getting results > setup rr: running\n"
     ]
    },
    {
     "name": "stderr",
     "output_type": "stream",
     "text": [
      "DEBUG:charmonium.logger: > getting results > setup rr: running\n"
     ]
    },
    {
     "name": "stdout",
     "output_type": "stream",
     "text": [
      " > getting results > setup rr: 0.0s\n"
     ]
    },
    {
     "name": "stderr",
     "output_type": "stream",
     "text": [
      "DEBUG:charmonium.logger: > getting results > setup rr: 0.0s\n"
     ]
    },
    {
     "name": "stdout",
     "output_type": "stream",
     "text": [
      " > getting results > blastx-10 in rr: running\n"
     ]
    },
    {
     "name": "stderr",
     "output_type": "stream",
     "text": [
      "DEBUG:charmonium.logger: > getting results > blastx-10 in rr: running\n"
     ]
    },
    {
     "name": "stdout",
     "output_type": "stream",
     "text": [
      " > getting results > blastx-10 in rr: 360.2s\n"
     ]
    },
    {
     "name": "stderr",
     "output_type": "stream",
     "text": [
      "DEBUG:charmonium.logger: > getting results > blastx-10 in rr: 360.2s\n"
     ]
    },
    {
     "name": "stdout",
     "output_type": "stream",
     "text": [
      " > getting results > parse rr: running\n"
     ]
    },
    {
     "name": "stderr",
     "output_type": "stream",
     "text": [
      "DEBUG:charmonium.logger: > getting results > parse rr: running\n"
     ]
    },
    {
     "name": "stdout",
     "output_type": "stream",
     "text": [
      " > getting results > parse rr: 0.0s\n"
     ]
    },
    {
     "name": "stderr",
     "output_type": "stream",
     "text": [
      "DEBUG:charmonium.logger: > getting results > parse rr: 0.0s\n",
      " 40%|█████████████████████████████████████████████▏                                                                   | 12/30 [19:11<42:15, 140.86s/it]"
     ]
    },
    {
     "name": "stdout",
     "output_type": "stream",
     "text": [
      " > getting results > setup python-imports: running\n"
     ]
    },
    {
     "name": "stderr",
     "output_type": "stream",
     "text": [
      "DEBUG:charmonium.logger: > getting results > setup python-imports: running\n"
     ]
    },
    {
     "name": "stdout",
     "output_type": "stream",
     "text": [
      " > getting results > setup python-imports: 0.0s\n"
     ]
    },
    {
     "name": "stderr",
     "output_type": "stream",
     "text": [
      "DEBUG:charmonium.logger: > getting results > setup python-imports: 0.0s\n"
     ]
    },
    {
     "name": "stdout",
     "output_type": "stream",
     "text": [
      " > getting results > setup fsatrace: running\n"
     ]
    },
    {
     "name": "stderr",
     "output_type": "stream",
     "text": [
      "DEBUG:charmonium.logger: > getting results > setup fsatrace: running\n"
     ]
    },
    {
     "name": "stdout",
     "output_type": "stream",
     "text": [
      " > getting results > setup fsatrace: 0.0s\n"
     ]
    },
    {
     "name": "stderr",
     "output_type": "stream",
     "text": [
      "DEBUG:charmonium.logger: > getting results > setup fsatrace: 0.0s\n"
     ]
    },
    {
     "name": "stdout",
     "output_type": "stream",
     "text": [
      " > getting results > python-imports in fsatrace: running\n"
     ]
    },
    {
     "name": "stderr",
     "output_type": "stream",
     "text": [
      "DEBUG:charmonium.logger: > getting results > python-imports in fsatrace: running\n"
     ]
    },
    {
     "name": "stdout",
     "output_type": "stream",
     "text": [
      " > getting results > python-imports in fsatrace: 4.9s\n"
     ]
    },
    {
     "name": "stderr",
     "output_type": "stream",
     "text": [
      "DEBUG:charmonium.logger: > getting results > python-imports in fsatrace: 4.9s\n"
     ]
    },
    {
     "name": "stdout",
     "output_type": "stream",
     "text": [
      " > getting results > parse fsatrace: running\n"
     ]
    },
    {
     "name": "stderr",
     "output_type": "stream",
     "text": [
      "DEBUG:charmonium.logger: > getting results > parse fsatrace: running\n"
     ]
    },
    {
     "name": "stdout",
     "output_type": "stream",
     "text": [
      " > getting results > parse fsatrace: 0.5s\n"
     ]
    },
    {
     "name": "stderr",
     "output_type": "stream",
     "text": [
      "DEBUG:charmonium.logger: > getting results > parse fsatrace: 0.5s\n",
      " 43%|█████████████████████████████████████████████████▍                                                                | 13/30 [19:16<28:17, 99.84s/it]"
     ]
    },
    {
     "name": "stdout",
     "output_type": "stream",
     "text": [
      " > getting results > setup tblastn-10: running\n"
     ]
    },
    {
     "name": "stderr",
     "output_type": "stream",
     "text": [
      "DEBUG:charmonium.logger: > getting results > setup tblastn-10: running\n"
     ]
    },
    {
     "name": "stdout",
     "output_type": "stream",
     "text": [
      " > getting results > setup tblastn-10: 0.0s\n"
     ]
    },
    {
     "name": "stderr",
     "output_type": "stream",
     "text": [
      "DEBUG:charmonium.logger: > getting results > setup tblastn-10: 0.0s\n"
     ]
    },
    {
     "name": "stdout",
     "output_type": "stream",
     "text": [
      " > getting results > setup no prov: running\n"
     ]
    },
    {
     "name": "stderr",
     "output_type": "stream",
     "text": [
      "DEBUG:charmonium.logger: > getting results > setup no prov: running\n"
     ]
    },
    {
     "name": "stdout",
     "output_type": "stream",
     "text": [
      " > getting results > setup no prov: 0.0s\n"
     ]
    },
    {
     "name": "stderr",
     "output_type": "stream",
     "text": [
      "DEBUG:charmonium.logger: > getting results > setup no prov: 0.0s\n"
     ]
    },
    {
     "name": "stdout",
     "output_type": "stream",
     "text": [
      " > getting results > tblastn-10 in no prov: running\n"
     ]
    },
    {
     "name": "stderr",
     "output_type": "stream",
     "text": [
      "DEBUG:charmonium.logger: > getting results > tblastn-10 in no prov: running\n"
     ]
    },
    {
     "name": "stdout",
     "output_type": "stream",
     "text": [
      " > getting results > tblastn-10 in no prov: 19.5s\n"
     ]
    },
    {
     "name": "stderr",
     "output_type": "stream",
     "text": [
      "DEBUG:charmonium.logger: > getting results > tblastn-10 in no prov: 19.5s\n"
     ]
    },
    {
     "name": "stdout",
     "output_type": "stream",
     "text": [
      " > getting results > parse no prov: running\n"
     ]
    },
    {
     "name": "stderr",
     "output_type": "stream",
     "text": [
      "DEBUG:charmonium.logger: > getting results > parse no prov: running\n"
     ]
    },
    {
     "name": "stdout",
     "output_type": "stream",
     "text": [
      " > getting results > parse no prov: 0.0s\n"
     ]
    },
    {
     "name": "stderr",
     "output_type": "stream",
     "text": [
      "DEBUG:charmonium.logger: > getting results > parse no prov: 0.0s\n",
      " 47%|█████████████████████████████████████████████████████▏                                                            | 14/30 [19:36<20:09, 75.60s/it]"
     ]
    },
    {
     "name": "stdout",
     "output_type": "stream",
     "text": [
      " > getting results > setup blastx-10: running\n"
     ]
    },
    {
     "name": "stderr",
     "output_type": "stream",
     "text": [
      "DEBUG:charmonium.logger: > getting results > setup blastx-10: running\n"
     ]
    },
    {
     "name": "stdout",
     "output_type": "stream",
     "text": [
      " > getting results > setup blastx-10: 0.0s\n"
     ]
    },
    {
     "name": "stderr",
     "output_type": "stream",
     "text": [
      "DEBUG:charmonium.logger: > getting results > setup blastx-10: 0.0s\n"
     ]
    },
    {
     "name": "stdout",
     "output_type": "stream",
     "text": [
      " > getting results > setup strace: running\n"
     ]
    },
    {
     "name": "stderr",
     "output_type": "stream",
     "text": [
      "DEBUG:charmonium.logger: > getting results > setup strace: running\n"
     ]
    },
    {
     "name": "stdout",
     "output_type": "stream",
     "text": [
      " > getting results > setup strace: 0.0s\n"
     ]
    },
    {
     "name": "stderr",
     "output_type": "stream",
     "text": [
      "DEBUG:charmonium.logger: > getting results > setup strace: 0.0s\n"
     ]
    },
    {
     "name": "stdout",
     "output_type": "stream",
     "text": [
      " > getting results > blastx-10 in strace: running\n"
     ]
    },
    {
     "name": "stderr",
     "output_type": "stream",
     "text": [
      "DEBUG:charmonium.logger: > getting results > blastx-10 in strace: running\n",
      "/home/sam/backup/prov/src/run_exec_wrapper.py:50: UserWarning: In signal catcher for 2\n",
      "  warnings.warn(f\"In signal catcher for {signal_number}\")\n",
      "WARNING:root:Killing process 6126 forcefully.\n"
     ]
    },
    {
     "name": "stdout",
     "output_type": "stream",
     "text": [
      " > getting results > blastx-10 in strace: 277.8s\n"
     ]
    },
    {
     "name": "stderr",
     "output_type": "stream",
     "text": [
      "DEBUG:charmonium.logger: > getting results > blastx-10 in strace: 277.8s\n"
     ]
    },
    {
     "name": "stdout",
     "output_type": "stream",
     "text": [
      " > getting results: 1454.4s (err)\n"
     ]
    },
    {
     "name": "stderr",
     "output_type": "stream",
     "text": [
      "DEBUG:charmonium.logger: > getting results: 1454.4s (err)\n"
     ]
    },
    {
     "ename": "SubprocessError",
     "evalue": "\n$ env --ignore-environment LD_LIBRARY_PATH=/nix/store/ibrqy2k75z89j78xvga354rcqq26qvyy-env/lib LIBRARY_PATH=/nix/store/ibrqy2k75z89j78xvga354rcqq26qvyy-env/lib PATH=/nix/store/ibrqy2k75z89j78xvga354rcqq26qvyy-env/bin /nix/store/ibrqy2k75z89j78xvga354rcqq26qvyy-env/bin/setarch --addr-no-randomize /nix/store/ibrqy2k75z89j78xvga354rcqq26qvyy-env/bin/strace --follow-forks --trace open,openat,openat2,creat,close,close_range,dup,dup2,dup3,link,linkat,symlink,symlinkat,unlink,unlinkat,rmdir,rename,renameat,mkdir,mkdirat,fstat,newfstatat,chown,fchown,lchown,fchownat,chmod,fchmod,fchmodat,access,faccessat,utime,utimes,futimesat,utimensat,truncate,ftruncate,mknod,mknodat,readlink,readlinkat,bind,accept,accept4,connect,socketcall,shutdown,pipe,pipe2,fgetxattr,flistxattr,fremovexattr,fsetxattr,getxattr,lgetxattr,listxattr,llistxattr,lremovexattr,lsetxattr,removexattr,setxattr,clone,clone3,fork,vfork,execve,execveat,exit,exit_group,chroot,fchdir,chdir --output .workdir/log/strace.out -s 256 /nix/store/ibrqy2k75z89j78xvga354rcqq26qvyy-env/bin/make --directory=.workdir/work/blast-benchmark BLASTN=/nix/store/ibrqy2k75z89j78xvga354rcqq26qvyy-env/bin/blastn BLASTP=/nix/store/ibrqy2k75z89j78xvga354rcqq26qvyy-env/bin/blastp BLASTX=/nix/store/ibrqy2k75z89j78xvga354rcqq26qvyy-env/bin/blastx TBLASTN=/nix/store/ibrqy2k75z89j78xvga354rcqq26qvyy-env/bin/tblastn TBLASTP=/nix/store/ibrqy2k75z89j78xvga354rcqq26qvyy-env/bin/tblastp 'MEGABLAST=/nix/store/ibrqy2k75z89j78xvga354rcqq26qvyy-env/bin/blastn -task megablast -use_index false' 'IDX_MEGABLAST=/nix/store/ibrqy2k75z89j78xvga354rcqq26qvyy-env/bin/blastn -task megablast -use_index true' 'IDX_MEGABLAST=/nix/store/ibrqy2k75z89j78xvga354rcqq26qvyy-env/bin/blastn -task megablast -use_index true' 'MAKEMBINDEX=/nix/store/ibrqy2k75z89j78xvga354rcqq26qvyy-env/bin/makembindex -iformat blastdb -old_style_index false' TIME= NM_001004160 NM_001003472 NM_011324 NM_060094 NM_074531\nmake: Entering directory '/home/sam/backup/prov/src/.workdir/work/blast-benchmark'\n/nix/store/ibrqy2k75z89j78xvga354rcqq26qvyy-env/bin/blastx -db db/benchmark.aa -query queries/blastx/NM_001004160  1>output/blastx/NM_001004160.out 2>output/blastx/NM_001004160.err\ntblastx -db db/benchmark.nt -query queries/tblastx/NM_001003472  1>output/tblastx/NM_001003472.out 2>output/tblastx/NM_001003472.err\ntblastx -db db/benchmark.nt -query queries/tblastx/NM_011324  1>output/tblastx/NM_011324.out 2>output/tblastx/NM_011324.err\ntblastx -db db/benchmark.nt -query queries/tblastx/NM_060094  1>output/tblastx/NM_060094.out 2>output/tblastx/NM_060094.err\n\n\n\n\n$ echo $?\n9",
     "output_type": "error",
     "traceback": [
      "\u001b[0;31m---------------------------------------------------------------------------\u001b[0m",
      "\u001b[0;31mSubprocessError\u001b[0m                           Traceback (most recent call last)",
      "Cell \u001b[0;32mIn[13], line 2\u001b[0m\n\u001b[1;32m      1\u001b[0m \u001b[38;5;28;01mwith\u001b[39;00m charmonium\u001b[38;5;241m.\u001b[39mtime_block\u001b[38;5;241m.\u001b[39mctx(\u001b[38;5;124m\"\u001b[39m\u001b[38;5;124mgetting results\u001b[39m\u001b[38;5;124m\"\u001b[39m):\n\u001b[0;32m----> 2\u001b[0m     df \u001b[38;5;241m=\u001b[39m \u001b[43mget_results\u001b[49m\u001b[43m(\u001b[49m\n\u001b[1;32m      3\u001b[0m \u001b[43m        \u001b[49m\u001b[43mcollectors\u001b[49m\u001b[43m,\u001b[49m\n\u001b[1;32m      4\u001b[0m \u001b[43m        \u001b[49m\u001b[43mworkloads\u001b[49m\u001b[43m,\u001b[49m\n\u001b[1;32m      5\u001b[0m \u001b[43m        \u001b[49m\u001b[43miterations\u001b[49m\u001b[38;5;241;43m=\u001b[39;49m\u001b[43m{\u001b[49m\u001b[38;5;241;43m0\u001b[39;49m\u001b[43m:\u001b[49m\u001b[43m \u001b[49m\u001b[38;5;241;43m2\u001b[39;49m\u001b[43m,\u001b[49m\u001b[43m \u001b[49m\u001b[38;5;241;43m1\u001b[39;49m\u001b[43m:\u001b[49m\u001b[43m \u001b[49m\u001b[38;5;241;43m2\u001b[39;49m\u001b[43m,\u001b[49m\u001b[43m \u001b[49m\u001b[38;5;241;43m2\u001b[39;49m\u001b[43m:\u001b[49m\u001b[43m \u001b[49m\u001b[38;5;241;43m4\u001b[39;49m\u001b[43m}\u001b[49m\u001b[43m[\u001b[49m\u001b[43mquality\u001b[49m\u001b[43m]\u001b[49m\u001b[43m,\u001b[49m\n\u001b[1;32m      6\u001b[0m \u001b[43m        \u001b[49m\u001b[43mseed\u001b[49m\u001b[38;5;241;43m=\u001b[39;49m\u001b[38;5;241;43m0\u001b[39;49m\u001b[43m,\u001b[49m\n\u001b[1;32m      7\u001b[0m \u001b[43m    \u001b[49m\u001b[43m)\u001b[49m\n",
      "File \u001b[0;32m~/backup/prov/src/experiment.py:34\u001b[0m, in \u001b[0;36mget_results\u001b[0;34m(prov_collectors, workloads, iterations, seed)\u001b[0m\n\u001b[1;32m     27\u001b[0m \u001b[38;5;28;01mdef\u001b[39;00m \u001b[38;5;21mget_results\u001b[39m(\n\u001b[1;32m     28\u001b[0m         prov_collectors: Sequence[ProvCollector],\n\u001b[1;32m     29\u001b[0m         workloads: Sequence[Workload],\n\u001b[1;32m     30\u001b[0m         iterations: \u001b[38;5;28mint\u001b[39m,\n\u001b[1;32m     31\u001b[0m         seed: \u001b[38;5;28mint\u001b[39m,\n\u001b[1;32m     32\u001b[0m ) \u001b[38;5;241m-\u001b[39m\u001b[38;5;241m>\u001b[39m pandas\u001b[38;5;241m.\u001b[39mDataFrame:\n\u001b[1;32m     33\u001b[0m     \u001b[38;5;28;01mreturn\u001b[39;00m (\n\u001b[0;32m---> 34\u001b[0m         \u001b[43mrun_experiments_cached\u001b[49m\u001b[43m(\u001b[49m\n\u001b[1;32m     35\u001b[0m \u001b[43m            \u001b[49m\u001b[43mprov_collectors\u001b[49m\u001b[43m,\u001b[49m\n\u001b[1;32m     36\u001b[0m \u001b[43m            \u001b[49m\u001b[43mworkloads\u001b[49m\u001b[43m,\u001b[49m\n\u001b[1;32m     37\u001b[0m \u001b[43m            \u001b[49m\u001b[43miterations\u001b[49m\u001b[38;5;241;43m=\u001b[39;49m\u001b[43miterations\u001b[49m\u001b[43m,\u001b[49m\n\u001b[1;32m     38\u001b[0m \u001b[43m            \u001b[49m\u001b[43mseed\u001b[49m\u001b[38;5;241;43m=\u001b[39;49m\u001b[43mseed\u001b[49m\u001b[43m,\u001b[49m\n\u001b[1;32m     39\u001b[0m \u001b[43m            \u001b[49m\u001b[43mcache_dir\u001b[49m\u001b[38;5;241;43m=\u001b[39;49m\u001b[43mpathlib\u001b[49m\u001b[38;5;241;43m.\u001b[39;49m\u001b[43mPath\u001b[49m\u001b[43m(\u001b[49m\u001b[38;5;124;43m\"\u001b[39;49m\u001b[38;5;124;43m.cache\u001b[39;49m\u001b[38;5;124;43m\"\u001b[39;49m\u001b[43m)\u001b[49m\u001b[43m,\u001b[49m\n\u001b[1;32m     40\u001b[0m \u001b[43m            \u001b[49m\u001b[43mbig_temp_dir\u001b[49m\u001b[38;5;241;43m=\u001b[39;49m\u001b[43mpathlib\u001b[49m\u001b[38;5;241;43m.\u001b[39;49m\u001b[43mPath\u001b[49m\u001b[43m(\u001b[49m\u001b[38;5;124;43m\"\u001b[39;49m\u001b[38;5;124;43m.workdir\u001b[39;49m\u001b[38;5;124;43m\"\u001b[39;49m\u001b[43m)\u001b[49m\u001b[43m,\u001b[49m\n\u001b[1;32m     41\u001b[0m \u001b[43m            \u001b[49m\u001b[43msize\u001b[49m\u001b[38;5;241;43m=\u001b[39;49m\u001b[38;5;241;43m256\u001b[39;49m\u001b[43m,\u001b[49m\n\u001b[1;32m     42\u001b[0m \u001b[43m        \u001b[49m\u001b[43m)\u001b[49m\n\u001b[1;32m     43\u001b[0m         \u001b[38;5;241m.\u001b[39massign(\u001b[38;5;241m*\u001b[39m\u001b[38;5;241m*\u001b[39m{\n\u001b[1;32m     44\u001b[0m             \u001b[38;5;124m\"\u001b[39m\u001b[38;5;124mn_ops\u001b[39m\u001b[38;5;124m\"\u001b[39m: \u001b[38;5;28;01mlambda\u001b[39;00m df: \u001b[38;5;28mlist\u001b[39m(\u001b[38;5;28mmap\u001b[39m(\u001b[38;5;28mlen\u001b[39m, df\u001b[38;5;241m.\u001b[39moperations)),\n\u001b[1;32m     45\u001b[0m             \u001b[38;5;124m\"\u001b[39m\u001b[38;5;124mn_unique_files\u001b[39m\u001b[38;5;124m\"\u001b[39m: \u001b[38;5;28;01mlambda\u001b[39;00m df: \u001b[38;5;28mlist\u001b[39m(\u001b[38;5;28mmap\u001b[39m(\u001b[38;5;28;01mlambda\u001b[39;00m ops: \u001b[38;5;28mlen\u001b[39m({op\u001b[38;5;241m.\u001b[39mtarget0 \u001b[38;5;28;01mfor\u001b[39;00m op \u001b[38;5;129;01min\u001b[39;00m ops} \u001b[38;5;241m|\u001b[39m {op\u001b[38;5;241m.\u001b[39mtarget1 \u001b[38;5;28;01mfor\u001b[39;00m op \u001b[38;5;129;01min\u001b[39;00m ops}), df\u001b[38;5;241m.\u001b[39moperations)),\n\u001b[1;32m     46\u001b[0m         })\n\u001b[1;32m     47\u001b[0m     )\n",
      "File \u001b[0;32m~/backup/prov/src/experiment.py:69\u001b[0m, in \u001b[0;36mrun_experiments_cached\u001b[0;34m(prov_collectors, workloads, iterations, seed, cache_dir, big_temp_dir, size)\u001b[0m\n\u001b[1;32m     67\u001b[0m     \u001b[38;5;28;01mreturn\u001b[39;00m expect_type(pandas\u001b[38;5;241m.\u001b[39mDataFrame, pickle\u001b[38;5;241m.\u001b[39mloads(key\u001b[38;5;241m.\u001b[39mread_bytes()))\n\u001b[1;32m     68\u001b[0m \u001b[38;5;28;01melse\u001b[39;00m:\n\u001b[0;32m---> 69\u001b[0m     results_df \u001b[38;5;241m=\u001b[39m \u001b[43mrun_experiments\u001b[49m\u001b[43m(\u001b[49m\n\u001b[1;32m     70\u001b[0m \u001b[43m        \u001b[49m\u001b[43mprov_collectors\u001b[49m\u001b[43m,\u001b[49m\n\u001b[1;32m     71\u001b[0m \u001b[43m        \u001b[49m\u001b[43mworkloads\u001b[49m\u001b[43m,\u001b[49m\n\u001b[1;32m     72\u001b[0m \u001b[43m        \u001b[49m\u001b[43mcache_dir\u001b[49m\u001b[43m,\u001b[49m\n\u001b[1;32m     73\u001b[0m \u001b[43m        \u001b[49m\u001b[43mbig_temp_dir\u001b[49m\u001b[43m,\u001b[49m\n\u001b[1;32m     74\u001b[0m \u001b[43m        \u001b[49m\u001b[43miterations\u001b[49m\u001b[43m,\u001b[49m\n\u001b[1;32m     75\u001b[0m \u001b[43m        \u001b[49m\u001b[43msize\u001b[49m\u001b[43m,\u001b[49m\n\u001b[1;32m     76\u001b[0m \u001b[43m        \u001b[49m\u001b[43mseed\u001b[49m\u001b[43m,\u001b[49m\n\u001b[1;32m     77\u001b[0m \u001b[43m    \u001b[49m\u001b[43m)\u001b[49m\n\u001b[1;32m     78\u001b[0m     key\u001b[38;5;241m.\u001b[39mwrite_bytes(pickle\u001b[38;5;241m.\u001b[39mdumps(results_df))\n\u001b[1;32m     79\u001b[0m     \u001b[38;5;28;01mreturn\u001b[39;00m results_df\n",
      "File \u001b[0;32m~/backup/prov/src/experiment.py:105\u001b[0m, in \u001b[0;36mrun_experiments\u001b[0;34m(prov_collectors, workloads, cache_dir, big_temp_dir, iterations, size, seed)\u001b[0m\n\u001b[1;32m    103\u001b[0m work_dir\u001b[38;5;241m.\u001b[39mmkdir(exist_ok\u001b[38;5;241m=\u001b[39m\u001b[38;5;28;01mTrue\u001b[39;00m)\n\u001b[1;32m    104\u001b[0m \u001b[38;5;28;01massert\u001b[39;00m \u001b[38;5;28mlist\u001b[39m(inputs)\n\u001b[0;32m--> 105\u001b[0m result_list \u001b[38;5;241m=\u001b[39m [\n\u001b[1;32m    106\u001b[0m     (prov_collector, workload, run_one_experiment_cached(\n\u001b[1;32m    107\u001b[0m         cache_dir, iteration, prov_collector, workload,\n\u001b[1;32m    108\u001b[0m         work_dir, log_dir, temp_dir, artifacts_dir, size,\n\u001b[1;32m    109\u001b[0m     ))\n\u001b[1;32m    110\u001b[0m     \u001b[38;5;28;01mfor\u001b[39;00m iteration, prov_collector, workload \u001b[38;5;129;01min\u001b[39;00m tqdm\u001b[38;5;241m.\u001b[39mtqdm(inputs)\n\u001b[1;32m    111\u001b[0m ]\n\u001b[1;32m    112\u001b[0m results_df \u001b[38;5;241m=\u001b[39m (\n\u001b[1;32m    113\u001b[0m     pandas\u001b[38;5;241m.\u001b[39mDataFrame\u001b[38;5;241m.\u001b[39mfrom_records(\n\u001b[1;32m    114\u001b[0m         {\n\u001b[0;32m   (...)\u001b[0m\n\u001b[1;32m    134\u001b[0m     })\n\u001b[1;32m    135\u001b[0m )\n\u001b[1;32m    136\u001b[0m \u001b[38;5;28;01mreturn\u001b[39;00m results_df\n",
      "File \u001b[0;32m~/backup/prov/src/experiment.py:106\u001b[0m, in \u001b[0;36m<listcomp>\u001b[0;34m(.0)\u001b[0m\n\u001b[1;32m    103\u001b[0m work_dir\u001b[38;5;241m.\u001b[39mmkdir(exist_ok\u001b[38;5;241m=\u001b[39m\u001b[38;5;28;01mTrue\u001b[39;00m)\n\u001b[1;32m    104\u001b[0m \u001b[38;5;28;01massert\u001b[39;00m \u001b[38;5;28mlist\u001b[39m(inputs)\n\u001b[1;32m    105\u001b[0m result_list \u001b[38;5;241m=\u001b[39m [\n\u001b[0;32m--> 106\u001b[0m     (prov_collector, workload, \u001b[43mrun_one_experiment_cached\u001b[49m\u001b[43m(\u001b[49m\n\u001b[1;32m    107\u001b[0m \u001b[43m        \u001b[49m\u001b[43mcache_dir\u001b[49m\u001b[43m,\u001b[49m\u001b[43m \u001b[49m\u001b[43miteration\u001b[49m\u001b[43m,\u001b[49m\u001b[43m \u001b[49m\u001b[43mprov_collector\u001b[49m\u001b[43m,\u001b[49m\u001b[43m \u001b[49m\u001b[43mworkload\u001b[49m\u001b[43m,\u001b[49m\n\u001b[1;32m    108\u001b[0m \u001b[43m        \u001b[49m\u001b[43mwork_dir\u001b[49m\u001b[43m,\u001b[49m\u001b[43m \u001b[49m\u001b[43mlog_dir\u001b[49m\u001b[43m,\u001b[49m\u001b[43m \u001b[49m\u001b[43mtemp_dir\u001b[49m\u001b[43m,\u001b[49m\u001b[43m \u001b[49m\u001b[43martifacts_dir\u001b[49m\u001b[43m,\u001b[49m\u001b[43m \u001b[49m\u001b[43msize\u001b[49m\u001b[43m,\u001b[49m\n\u001b[1;32m    109\u001b[0m \u001b[43m    \u001b[49m\u001b[43m)\u001b[49m)\n\u001b[1;32m    110\u001b[0m     \u001b[38;5;28;01mfor\u001b[39;00m iteration, prov_collector, workload \u001b[38;5;129;01min\u001b[39;00m tqdm\u001b[38;5;241m.\u001b[39mtqdm(inputs)\n\u001b[1;32m    111\u001b[0m ]\n\u001b[1;32m    112\u001b[0m results_df \u001b[38;5;241m=\u001b[39m (\n\u001b[1;32m    113\u001b[0m     pandas\u001b[38;5;241m.\u001b[39mDataFrame\u001b[38;5;241m.\u001b[39mfrom_records(\n\u001b[1;32m    114\u001b[0m         {\n\u001b[0;32m   (...)\u001b[0m\n\u001b[1;32m    134\u001b[0m     })\n\u001b[1;32m    135\u001b[0m )\n\u001b[1;32m    136\u001b[0m \u001b[38;5;28;01mreturn\u001b[39;00m results_df\n",
      "File \u001b[0;32m~/backup/prov/src/experiment.py:168\u001b[0m, in \u001b[0;36mrun_one_experiment_cached\u001b[0;34m(cache_dir, iteration, prov_collector, workload, work_dir, log_dir, temp_dir, artifacts_dir, size)\u001b[0m\n\u001b[1;32m    166\u001b[0m \u001b[38;5;28;01melse\u001b[39;00m:\n\u001b[1;32m    167\u001b[0m     delete_children(temp_dir)\n\u001b[0;32m--> 168\u001b[0m     stats \u001b[38;5;241m=\u001b[39m \u001b[43mrun_one_experiment\u001b[49m\u001b[43m(\u001b[49m\n\u001b[1;32m    169\u001b[0m \u001b[43m        \u001b[49m\u001b[43miteration\u001b[49m\u001b[43m,\u001b[49m\u001b[43m \u001b[49m\u001b[43mprov_collector\u001b[49m\u001b[43m,\u001b[49m\u001b[43m \u001b[49m\u001b[43mworkload\u001b[49m\u001b[43m,\u001b[49m\u001b[43m \u001b[49m\u001b[43mwork_dir\u001b[49m\u001b[43m,\u001b[49m\u001b[43m \u001b[49m\u001b[43mlog_dir\u001b[49m\u001b[43m,\u001b[49m\n\u001b[1;32m    170\u001b[0m \u001b[43m        \u001b[49m\u001b[43mtemp_dir\u001b[49m\u001b[43m,\u001b[49m\u001b[43m \u001b[49m\u001b[43martifacts_dir\u001b[49m\u001b[43m,\u001b[49m\u001b[43m \u001b[49m\u001b[43msize\u001b[49m\n\u001b[1;32m    171\u001b[0m \u001b[43m    \u001b[49m\u001b[43m)\u001b[49m\n\u001b[1;32m    172\u001b[0m     cache_dir\u001b[38;5;241m.\u001b[39mmkdir(exist_ok\u001b[38;5;241m=\u001b[39m\u001b[38;5;28;01mTrue\u001b[39;00m, parents\u001b[38;5;241m=\u001b[39m\u001b[38;5;28;01mTrue\u001b[39;00m)\n\u001b[1;32m    173\u001b[0m     key\u001b[38;5;241m.\u001b[39mwrite_bytes(pickle\u001b[38;5;241m.\u001b[39mdumps(stats))\n",
      "File \u001b[0;32m~/backup/prov/src/experiment.py:230\u001b[0m, in \u001b[0;36mrun_one_experiment\u001b[0;34m(iteration, prov_collector, workload, work_dir, log_dir, temp_dir, artifacts_dir, size)\u001b[0m\n\u001b[1;32m    228\u001b[0m move_children(temp_dir \u001b[38;5;241m/\u001b[39m \u001b[38;5;124m\"\u001b[39m\u001b[38;5;124mold_work_dir\u001b[39m\u001b[38;5;124m\"\u001b[39m, work_dir)\n\u001b[1;32m    229\u001b[0m \u001b[38;5;28;01mif\u001b[39;00m \u001b[38;5;129;01mnot\u001b[39;00m stats\u001b[38;5;241m.\u001b[39msuccess:\n\u001b[0;32m--> 230\u001b[0m     \u001b[38;5;28;01mraise\u001b[39;00m SubprocessError(\n\u001b[1;32m    231\u001b[0m         cmd\u001b[38;5;241m=\u001b[39mcmd,\n\u001b[1;32m    232\u001b[0m         env\u001b[38;5;241m=\u001b[39mfull_env,\n\u001b[1;32m    233\u001b[0m         cwd\u001b[38;5;241m=\u001b[39m\u001b[38;5;28;01mNone\u001b[39;00m,\n\u001b[1;32m    234\u001b[0m         returncode\u001b[38;5;241m=\u001b[39mstats\u001b[38;5;241m.\u001b[39mexitcode,\n\u001b[1;32m    235\u001b[0m         stdout\u001b[38;5;241m=\u001b[39mto_str(stats\u001b[38;5;241m.\u001b[39mstdout),\n\u001b[1;32m    236\u001b[0m         stderr\u001b[38;5;241m=\u001b[39mto_str(stats\u001b[38;5;241m.\u001b[39mstderr),\n\u001b[1;32m    237\u001b[0m     )\n\u001b[1;32m    238\u001b[0m \u001b[38;5;28;01mwith\u001b[39;00m ch_time_block\u001b[38;5;241m.\u001b[39mctx(\u001b[38;5;124mf\u001b[39m\u001b[38;5;124m\"\u001b[39m\u001b[38;5;124mparse \u001b[39m\u001b[38;5;132;01m{\u001b[39;00mprov_collector\u001b[38;5;132;01m}\u001b[39;00m\u001b[38;5;124m\"\u001b[39m):\n\u001b[1;32m    239\u001b[0m     provenance_size \u001b[38;5;241m=\u001b[39m \u001b[38;5;241m0\u001b[39m\n",
      "\u001b[0;31mSubprocessError\u001b[0m: \n$ env --ignore-environment LD_LIBRARY_PATH=/nix/store/ibrqy2k75z89j78xvga354rcqq26qvyy-env/lib LIBRARY_PATH=/nix/store/ibrqy2k75z89j78xvga354rcqq26qvyy-env/lib PATH=/nix/store/ibrqy2k75z89j78xvga354rcqq26qvyy-env/bin /nix/store/ibrqy2k75z89j78xvga354rcqq26qvyy-env/bin/setarch --addr-no-randomize /nix/store/ibrqy2k75z89j78xvga354rcqq26qvyy-env/bin/strace --follow-forks --trace open,openat,openat2,creat,close,close_range,dup,dup2,dup3,link,linkat,symlink,symlinkat,unlink,unlinkat,rmdir,rename,renameat,mkdir,mkdirat,fstat,newfstatat,chown,fchown,lchown,fchownat,chmod,fchmod,fchmodat,access,faccessat,utime,utimes,futimesat,utimensat,truncate,ftruncate,mknod,mknodat,readlink,readlinkat,bind,accept,accept4,connect,socketcall,shutdown,pipe,pipe2,fgetxattr,flistxattr,fremovexattr,fsetxattr,getxattr,lgetxattr,listxattr,llistxattr,lremovexattr,lsetxattr,removexattr,setxattr,clone,clone3,fork,vfork,execve,execveat,exit,exit_group,chroot,fchdir,chdir --output .workdir/log/strace.out -s 256 /nix/store/ibrqy2k75z89j78xvga354rcqq26qvyy-env/bin/make --directory=.workdir/work/blast-benchmark BLASTN=/nix/store/ibrqy2k75z89j78xvga354rcqq26qvyy-env/bin/blastn BLASTP=/nix/store/ibrqy2k75z89j78xvga354rcqq26qvyy-env/bin/blastp BLASTX=/nix/store/ibrqy2k75z89j78xvga354rcqq26qvyy-env/bin/blastx TBLASTN=/nix/store/ibrqy2k75z89j78xvga354rcqq26qvyy-env/bin/tblastn TBLASTP=/nix/store/ibrqy2k75z89j78xvga354rcqq26qvyy-env/bin/tblastp 'MEGABLAST=/nix/store/ibrqy2k75z89j78xvga354rcqq26qvyy-env/bin/blastn -task megablast -use_index false' 'IDX_MEGABLAST=/nix/store/ibrqy2k75z89j78xvga354rcqq26qvyy-env/bin/blastn -task megablast -use_index true' 'IDX_MEGABLAST=/nix/store/ibrqy2k75z89j78xvga354rcqq26qvyy-env/bin/blastn -task megablast -use_index true' 'MAKEMBINDEX=/nix/store/ibrqy2k75z89j78xvga354rcqq26qvyy-env/bin/makembindex -iformat blastdb -old_style_index false' TIME= NM_001004160 NM_001003472 NM_011324 NM_060094 NM_074531\nmake: Entering directory '/home/sam/backup/prov/src/.workdir/work/blast-benchmark'\n/nix/store/ibrqy2k75z89j78xvga354rcqq26qvyy-env/bin/blastx -db db/benchmark.aa -query queries/blastx/NM_001004160  1>output/blastx/NM_001004160.out 2>output/blastx/NM_001004160.err\ntblastx -db db/benchmark.nt -query queries/tblastx/NM_001003472  1>output/tblastx/NM_001003472.out 2>output/tblastx/NM_001003472.err\ntblastx -db db/benchmark.nt -query queries/tblastx/NM_011324  1>output/tblastx/NM_011324.out 2>output/tblastx/NM_011324.err\ntblastx -db db/benchmark.nt -query queries/tblastx/NM_060094  1>output/tblastx/NM_060094.out 2>output/tblastx/NM_060094.err\n\n\n\n\n$ echo $?\n9"
     ]
    }
   ],
   "source": [
    "with charmonium.time_block.ctx(\"getting results\"):\n",
    "    df = get_results(\n",
    "        collectors,\n",
    "        workloads,\n",
    "        iterations={0: 2, 1: 2, 2: 4}[quality],\n",
    "        seed=0,\n",
    "    )"
   ]
  },
  {
   "cell_type": "code",
   "execution_count": 14,
   "id": "d987bf19-15e1-4987-9541-addef96a274f",
   "metadata": {},
   "outputs": [
    {
     "ename": "NameError",
     "evalue": "name 'df' is not defined",
     "output_type": "error",
     "traceback": [
      "\u001b[0;31m---------------------------------------------------------------------------\u001b[0m",
      "\u001b[0;31mNameError\u001b[0m                                 Traceback (most recent call last)",
      "Cell \u001b[0;32mIn[14], line 1\u001b[0m\n\u001b[0;32m----> 1\u001b[0m \u001b[38;5;28;01massert\u001b[39;00m baseline\u001b[38;5;241m.\u001b[39mname \u001b[38;5;129;01min\u001b[39;00m \u001b[43mdf\u001b[49m\u001b[38;5;241m.\u001b[39mcollector\u001b[38;5;241m.\u001b[39mcat\u001b[38;5;241m.\u001b[39mcategories\n",
      "\u001b[0;31mNameError\u001b[0m: name 'df' is not defined"
     ]
    }
   ],
   "source": [
    "assert baseline.name in df.collector.cat.categories"
   ]
  },
  {
   "cell_type": "code",
   "execution_count": 15,
   "id": "2bf7ed2b-2262-49c6-80cd-8af16a73c5ce",
   "metadata": {},
   "outputs": [
    {
     "ename": "NameError",
     "evalue": "name 'df' is not defined",
     "output_type": "error",
     "traceback": [
      "\u001b[0;31m---------------------------------------------------------------------------\u001b[0m",
      "\u001b[0;31mNameError\u001b[0m                                 Traceback (most recent call last)",
      "Cell \u001b[0;32mIn[15], line 2\u001b[0m\n\u001b[1;32m      1\u001b[0m coords \u001b[38;5;241m=\u001b[39m {\n\u001b[0;32m----> 2\u001b[0m     \u001b[38;5;124m\"\u001b[39m\u001b[38;5;124mdata\u001b[39m\u001b[38;5;124m\"\u001b[39m: \u001b[43mdf\u001b[49m\u001b[38;5;241m.\u001b[39mindex,\n\u001b[1;32m      3\u001b[0m     \u001b[38;5;124m\"\u001b[39m\u001b[38;5;124mworkload\u001b[39m\u001b[38;5;124m\"\u001b[39m: df\u001b[38;5;241m.\u001b[39mworkload\u001b[38;5;241m.\u001b[39mcat\u001b[38;5;241m.\u001b[39mcategories,\n\u001b[1;32m      4\u001b[0m     \u001b[38;5;124m\"\u001b[39m\u001b[38;5;124mcollector\u001b[39m\u001b[38;5;124m\"\u001b[39m: df\u001b[38;5;241m.\u001b[39mcollector\u001b[38;5;241m.\u001b[39mcat\u001b[38;5;241m.\u001b[39mcategories,\n\u001b[1;32m      5\u001b[0m }\n\u001b[1;32m      6\u001b[0m \u001b[38;5;28;01mwith\u001b[39;00m charmonium\u001b[38;5;241m.\u001b[39mtime_block\u001b[38;5;241m.\u001b[39mctx(\u001b[38;5;124m\"\u001b[39m\u001b[38;5;124mmodel\u001b[39m\u001b[38;5;124m\"\u001b[39m), pymc\u001b[38;5;241m.\u001b[39mModel(coords\u001b[38;5;241m=\u001b[39mcoords) \u001b[38;5;28;01mas\u001b[39;00m model:\n\u001b[1;32m      7\u001b[0m     workload_idx \u001b[38;5;241m=\u001b[39m pymc\u001b[38;5;241m.\u001b[39mConstantData(\n\u001b[1;32m      8\u001b[0m         \u001b[38;5;124m\"\u001b[39m\u001b[38;5;124mworkload_idx\u001b[39m\u001b[38;5;124m\"\u001b[39m,\n\u001b[1;32m      9\u001b[0m         df\u001b[38;5;241m.\u001b[39mworkload\u001b[38;5;241m.\u001b[39mcat\u001b[38;5;241m.\u001b[39mcodes,\n\u001b[1;32m     10\u001b[0m         dims\u001b[38;5;241m=\u001b[39m\u001b[38;5;124m\"\u001b[39m\u001b[38;5;124mdata\u001b[39m\u001b[38;5;124m\"\u001b[39m,\n\u001b[1;32m     11\u001b[0m     )\n",
      "\u001b[0;31mNameError\u001b[0m: name 'df' is not defined"
     ]
    }
   ],
   "source": [
    "coords = {\n",
    "    \"data\": df.index,\n",
    "    \"workload\": df.workload.cat.categories,\n",
    "    \"collector\": df.collector.cat.categories,\n",
    "}\n",
    "with charmonium.time_block.ctx(\"model\"), pymc.Model(coords=coords) as model:\n",
    "    workload_idx = pymc.ConstantData(\n",
    "        \"workload_idx\",\n",
    "        df.workload.cat.codes,\n",
    "        dims=\"data\",\n",
    "    )\n",
    "    collector_idx = pymc.ConstantData(\n",
    "        \"collector_idx\",\n",
    "        df.collector.cat.codes,\n",
    "        dims=\"data\",\n",
    "    )\n",
    "    # TODO: rewrite in terms of collector_idx\n",
    "    is_baseline = df.collector.cat.categories == baseline.name\n",
    "    workload_runtime = pymc.Exponential(\n",
    "        \"workload_runtime\",\n",
    "        1/10,\n",
    "        dims=\"workload\",\n",
    "    )\n",
    "    workload_syscalls = pymc.ConstantData(\n",
    "        \"workload_syscalls\",\n",
    "        [\n",
    "            numpy.mean(df[(df[\"workload\"] == workload) & (df[\"collector\"] == \"strace\")][\"n_ops\"])\n",
    "            for workload in df.workload.cat.categories\n",
    "        ],\n",
    "        dims=\"workload\",\n",
    "    )\n",
    "    workload_syscalls_per_second = pymc.Deterministic(\n",
    "        \"workload_syscalls_per_second\",\n",
    "        workload_syscalls / workload_runtime,\n",
    "        dims=\"workload\",\n",
    "    )\n",
    "    collector_runtime_per_syscall = pymc.math.switch(\n",
    "        is_baseline,\n",
    "        0,\n",
    "        pymc.Exponential(\n",
    "            \"collector_runtime_per_syscall\",\n",
    "            1/1e-3,\n",
    "            dims=\"collector\",\n",
    "        ),\n",
    "    )\n",
    "    workload_collector_runtime = pymc.Deterministic(\n",
    "        \"workload_collector_runtime\",\n",
    "        workload_runtime[:, numpy.newaxis] + workload_syscalls[:, numpy.newaxis] * collector_runtime_per_syscall[numpy.newaxis, :],\n",
    "        dims=(\"workload\", \"collector\"),\n",
    "    )\n",
    "    workload_collector_overhead = pymc.Deterministic(\n",
    "        \"workload_collector_overhead\",\n",
    "        workload_collector_runtime / workload_runtime[:, numpy.newaxis],\n",
    "        dims=(\"workload\", \"collector\"),\n",
    "    )\n",
    "    runtime_stddev = pymc.Exponential(\"runtime_stddev\", 1/1, dims=\"workload\")\n",
    "    runtime = pymc.Normal(\n",
    "        \"runtime\",\n",
    "        mu=workload_collector_runtime[workload_idx, collector_idx],\n",
    "        sigma=runtime_stddev[workload_idx],\n",
    "        observed=df.walltime,\n",
    "        dims=\"data\",\n",
    "    )"
   ]
  },
  {
   "cell_type": "code",
   "execution_count": 16,
   "id": "dd0e552f-b441-4eff-827f-2bb5b18d68b4",
   "metadata": {},
   "outputs": [
    {
     "ename": "NameError",
     "evalue": "name 'model' is not defined",
     "output_type": "error",
     "traceback": [
      "\u001b[0;31m---------------------------------------------------------------------------\u001b[0m",
      "\u001b[0;31mNameError\u001b[0m                                 Traceback (most recent call last)",
      "Cell \u001b[0;32mIn[16], line 1\u001b[0m\n\u001b[0;32m----> 1\u001b[0m pymc\u001b[38;5;241m.\u001b[39mmodel_to_graphviz(\u001b[43mmodel\u001b[49m)\n",
      "\u001b[0;31mNameError\u001b[0m: name 'model' is not defined"
     ]
    }
   ],
   "source": [
    "pymc.model_to_graphviz(model)"
   ]
  },
  {
   "cell_type": "code",
   "execution_count": 17,
   "id": "7fabecd5-0ef8-4a0f-8f6b-a40be91de317",
   "metadata": {},
   "outputs": [
    {
     "name": "stdout",
     "output_type": "stream",
     "text": [
      " > Graphing model: running\n"
     ]
    },
    {
     "name": "stderr",
     "output_type": "stream",
     "text": [
      "DEBUG:charmonium.logger: > Graphing model: running\n"
     ]
    },
    {
     "name": "stdout",
     "output_type": "stream",
     "text": [
      " > Graphing model: 0.0s (err)\n"
     ]
    },
    {
     "name": "stderr",
     "output_type": "stream",
     "text": [
      "DEBUG:charmonium.logger: > Graphing model: 0.0s (err)\n"
     ]
    },
    {
     "ename": "NameError",
     "evalue": "name 'model' is not defined",
     "output_type": "error",
     "traceback": [
      "\u001b[0;31m---------------------------------------------------------------------------\u001b[0m",
      "\u001b[0;31mNameError\u001b[0m                                 Traceback (most recent call last)",
      "Cell \u001b[0;32mIn[17], line 2\u001b[0m\n\u001b[1;32m      1\u001b[0m \u001b[38;5;28;01mwith\u001b[39;00m charmonium\u001b[38;5;241m.\u001b[39mtime_block\u001b[38;5;241m.\u001b[39mctx(\u001b[38;5;124m\"\u001b[39m\u001b[38;5;124mGraphing model\u001b[39m\u001b[38;5;124m\"\u001b[39m):\n\u001b[0;32m----> 2\u001b[0m     graph \u001b[38;5;241m=\u001b[39m pymc\u001b[38;5;241m.\u001b[39mmodel_to_graphviz(\u001b[43mmodel\u001b[49m)\n\u001b[1;32m      3\u001b[0m     graph\u001b[38;5;241m.\u001b[39mrender(outfile\u001b[38;5;241m=\u001b[39m\u001b[38;5;124m\"\u001b[39m\u001b[38;5;124moutput/model.png\u001b[39m\u001b[38;5;124m\"\u001b[39m)\n\u001b[1;32m      4\u001b[0m     pathlib\u001b[38;5;241m.\u001b[39mPath(\u001b[38;5;124m\"\u001b[39m\u001b[38;5;124moutput/model.dot\u001b[39m\u001b[38;5;124m\"\u001b[39m)\u001b[38;5;241m.\u001b[39mwrite_text(graph\u001b[38;5;241m.\u001b[39msource)\n",
      "\u001b[0;31mNameError\u001b[0m: name 'model' is not defined"
     ]
    }
   ],
   "source": [
    "with charmonium.time_block.ctx(\"Graphing model\"):\n",
    "    graph = pymc.model_to_graphviz(model)\n",
    "    graph.render(outfile=\"output/model.png\")\n",
    "    pathlib.Path(\"output/model.dot\").write_text(graph.source)\n",
    "    graph_str = hashlib.sha256(\"\\n\".join(sorted(graph.source.split(\"\\n\"))).encode()).hexdigest()[:10]\n",
    "    print(\"model:\", graph_str)"
   ]
  },
  {
   "cell_type": "code",
   "execution_count": 18,
   "id": "0b38d9c8-5037-4c5a-ae78-a5b61d1c0503",
   "metadata": {},
   "outputs": [
    {
     "name": "stdout",
     "output_type": "stream",
     "text": [
      " > Prior predictive: running\n"
     ]
    },
    {
     "name": "stderr",
     "output_type": "stream",
     "text": [
      "DEBUG:charmonium.logger: > Prior predictive: running\n"
     ]
    },
    {
     "name": "stdout",
     "output_type": "stream",
     "text": [
      " > Prior predictive: 0.0s (err)\n"
     ]
    },
    {
     "name": "stderr",
     "output_type": "stream",
     "text": [
      "DEBUG:charmonium.logger: > Prior predictive: 0.0s (err)\n"
     ]
    },
    {
     "ename": "NameError",
     "evalue": "name 'model' is not defined",
     "output_type": "error",
     "traceback": [
      "\u001b[0;31m---------------------------------------------------------------------------\u001b[0m",
      "\u001b[0;31mNameError\u001b[0m                                 Traceback (most recent call last)",
      "Cell \u001b[0;32mIn[18], line 4\u001b[0m\n\u001b[1;32m      1\u001b[0m \u001b[38;5;28;01mwith\u001b[39;00m charmonium\u001b[38;5;241m.\u001b[39mtime_block\u001b[38;5;241m.\u001b[39mctx(\u001b[38;5;124m\"\u001b[39m\u001b[38;5;124mPrior predictive\u001b[39m\u001b[38;5;124m\"\u001b[39m):\n\u001b[1;32m      2\u001b[0m     priors \u001b[38;5;241m=\u001b[39m pymc\u001b[38;5;241m.\u001b[39msample_prior_predictive(\n\u001b[1;32m      3\u001b[0m         random_seed\u001b[38;5;241m=\u001b[39mrandom_seed,\n\u001b[0;32m----> 4\u001b[0m         model\u001b[38;5;241m=\u001b[39m\u001b[43mmodel\u001b[49m,\n\u001b[1;32m      5\u001b[0m     )\n",
      "\u001b[0;31mNameError\u001b[0m: name 'model' is not defined"
     ]
    }
   ],
   "source": [
    "with charmonium.time_block.ctx(\"Prior predictive\"):\n",
    "    priors = pymc.sample_prior_predictive(\n",
    "        random_seed=random_seed,\n",
    "        model=model,\n",
    "    )"
   ]
  },
  {
   "cell_type": "code",
   "execution_count": 19,
   "id": "f78ddc9a-4e8f-4740-9fee-276d89733ffc",
   "metadata": {},
   "outputs": [
    {
     "ename": "NameError",
     "evalue": "name 'priors' is not defined",
     "output_type": "error",
     "traceback": [
      "\u001b[0;31m---------------------------------------------------------------------------\u001b[0m",
      "\u001b[0;31mNameError\u001b[0m                                 Traceback (most recent call last)",
      "Cell \u001b[0;32mIn[19], line 1\u001b[0m\n\u001b[0;32m----> 1\u001b[0m arviz\u001b[38;5;241m.\u001b[39mplot_forest(\u001b[43mpriors\u001b[49m\u001b[38;5;241m.\u001b[39mprior\u001b[38;5;241m.\u001b[39mworkload_runtime)\n",
      "\u001b[0;31mNameError\u001b[0m: name 'priors' is not defined"
     ]
    }
   ],
   "source": [
    "arviz.plot_forest(priors.prior.workload_runtime)"
   ]
  },
  {
   "cell_type": "code",
   "execution_count": 20,
   "id": "3b0c3187-348b-4ce2-82db-9c3db03b1c8b",
   "metadata": {},
   "outputs": [
    {
     "ename": "NameError",
     "evalue": "name 'df' is not defined",
     "output_type": "error",
     "traceback": [
      "\u001b[0;31m---------------------------------------------------------------------------\u001b[0m",
      "\u001b[0;31mNameError\u001b[0m                                 Traceback (most recent call last)",
      "Cell \u001b[0;32mIn[20], line 4\u001b[0m\n\u001b[1;32m      2\u001b[0m fig \u001b[38;5;241m=\u001b[39m matplotlib\u001b[38;5;241m.\u001b[39mpyplot\u001b[38;5;241m.\u001b[39mfigure()\n\u001b[1;32m      3\u001b[0m ax \u001b[38;5;241m=\u001b[39m fig\u001b[38;5;241m.\u001b[39madd_subplot(\u001b[38;5;241m1\u001b[39m, \u001b[38;5;241m1\u001b[39m, \u001b[38;5;241m1\u001b[39m)\n\u001b[0;32m----> 4\u001b[0m ax\u001b[38;5;241m.\u001b[39mbar(\u001b[43mdf\u001b[49m\u001b[38;5;241m.\u001b[39mworkload\u001b[38;5;241m.\u001b[39mcat\u001b[38;5;241m.\u001b[39mcategories, priors\u001b[38;5;241m.\u001b[39mconstant_data\u001b[38;5;241m.\u001b[39mworkload_syscalls)\n",
      "\u001b[0;31mNameError\u001b[0m: name 'df' is not defined"
     ]
    },
    {
     "data": {
      "image/png": "[encoded data removed]",
      "text/plain": [
       "<Figure size 640x480 with 1 Axes>"
      ]
     },
     "metadata": {},
     "output_type": "display_data"
    }
   ],
   "source": [
    "#fig = matplotlib.figure.Figure()\n",
    "fig = matplotlib.pyplot.figure()\n",
    "ax = fig.add_subplot(1, 1, 1)\n",
    "ax.bar(df.workload.cat.categories, priors.constant_data.workload_syscalls)"
   ]
  },
  {
   "cell_type": "code",
   "execution_count": null,
   "id": "a8c1e810-8d6c-498e-b061-789110591768",
   "metadata": {},
   "outputs": [],
   "source": [
    "arviz.plot_forest(priors.constant_data.workload_syscalls * priors.prior.collector_runtime_per_syscall)"
   ]
  },
  {
   "cell_type": "code",
   "execution_count": null,
   "id": "0592ccc6-bd89-45b7-a629-3bbcd803dc58",
   "metadata": {},
   "outputs": [],
   "source": [
    "arviz.plot_forest(priors.prior.workload_collector_overhead)"
   ]
  },
  {
   "cell_type": "code",
   "execution_count": null,
   "id": "6b3ef261-afea-4019-a2b8-6e57ecd4d1e2",
   "metadata": {},
   "outputs": [],
   "source": [
    "with charmonium.time_block.ctx(\"MCMC\"):\n",
    "    cache_file = cache / f\"trace-{graph_str}.hdf5\"\n",
    "    if cache_file.exists():\n",
    "        trace = arviz.from_netcdf(cache_file)  # type: ignore\n",
    "    else:\n",
    "        with model:\n",
    "            trace = pymc.sample(\n",
    "                random_seed=random_seed,\n",
    "                progressbar=True,\n",
    "                tune={0: 150, 1: 500, 2: 1000}[quality],\n",
    "                draws={0: 150, 1: 500, 2: 1000}[quality],\n",
    "                chains={0: 2, 1: 2, 2: 4}[quality],\n",
    "            )\n",
    "            trace.to_netcdf(cache_file)  # type: ignore\n",
    "\n",
    "            # check convergence diagnostics\n",
    "            assert all(arviz.rhat(trace) < 1.03)  # type: ignore\n"
   ]
  },
  {
   "cell_type": "code",
   "execution_count": null,
   "id": "ddf811f7-9c56-4dc2-8618-3014b3e3b901",
   "metadata": {},
   "outputs": [],
   "source": [
    "axes = arviz.plot_trace(\n",
    "    trace,\n",
    "    figsize=(12, 4 * len(trace.posterior)),\n",
    ")"
   ]
  },
  {
   "cell_type": "code",
   "execution_count": null,
   "id": "bedbf7e7-d20b-4e0f-9b8a-60871805d4b1",
   "metadata": {},
   "outputs": [],
   "source": [
    "model.named_vars"
   ]
  },
  {
   "cell_type": "code",
   "execution_count": null,
   "id": "aaabb88c-d9ac-49c4-8b13-a85f17698b73",
   "metadata": {},
   "outputs": [],
   "source": [
    "def ident(x):\n",
    "    return x\n",
    "\n",
    "exclude_baseline = {\n",
    "    \"collector\": [\n",
    "        category\n",
    "        for category in df.collector.cat.categories\n",
    "        if category not in {\"no prov\"}\n",
    "    ],\n",
    "}\n",
    "variables = [\n",
    "    (\"workload_runtime\", \"sec\", ident, None),\n",
    "    #(\"workload_syscalls\", \"#\", ident, None),\n",
    "    (\"workload_syscalls_per_second\", \"K calls / sec\", lambda x: x / 1e3, None),\n",
    "    (\"collector_runtime_per_syscall\", \"log 10 sec\", numpy.log10, exclude_baseline),\n",
    "    (\"workload_collector_runtime\", \"sec\", ident, None),\n",
    "    (\"workload_collector_overhead\", \"overhead (prov ÷ no prov)\", ident, None),\n",
    "    (\"runtime_stddev\", \"sec\", ident, None),\n",
    "]"
   ]
  },
  {
   "cell_type": "code",
   "execution_count": null,
   "id": "bc4582d4-db67-4ef9-98c8-8dcefa603b69",
   "metadata": {},
   "outputs": [],
   "source": [
    "for variable, label, transform, coords in variables:\n",
    "    axes = arviz.plot_forest(\n",
    "        trace,\n",
    "        var_names=[variable],\n",
    "        transform=transform,\n",
    "        coords=coords,\n",
    "        combined=True,\n",
    "    ).ravel()\n",
    "    axes[0].set_title(variable)\n",
    "    axes[0].set_xlabel(label)\n",
    "    figure = axes[0].figure\n",
    "    figure.savefig(\n",
    "        f\"output/posterior_forest_{variable}.png\",\n",
    "        bbox_inches=\"tight\",\n",
    "    )"
   ]
  },
  {
   "cell_type": "code",
   "execution_count": null,
   "id": "26cac148-10d4-46c2-a8fc-c058e2ea18b7",
   "metadata": {},
   "outputs": [],
   "source": [
    "fig = matplotlib.pyplot.figure()\n",
    "ax = fig.add_subplot(1, 1, 1)\n",
    "n_points = 30\n",
    "for workload_idx, workload in enumerate(df.workload.cat.categories):\n",
    "    ax.plot(\n",
    "        trace.posterior.workload_runtime.isel(workload=workload_idx, draw=range(n_points)).data.flatten(),\n",
    "        [trace.constant_data.workload_syscalls.isel(workload=workload_idx)] * n_points * trace.posterior.dims[\"chain\"],\n",
    "        label=workload,\n",
    "        marker=\".\",\n",
    "        linestyle=\"\",\n",
    "    )\n",
    "ax.legend()"
   ]
  },
  {
   "cell_type": "code",
   "execution_count": null,
   "id": "bf64a5a5-7e36-41d8-9bcb-be8a8758ee6d",
   "metadata": {},
   "outputs": [],
   "source": []
  }
 ],
 "metadata": {
  "kernelspec": {
   "display_name": "Python 3 (ipykernel)",
   "language": "python",
   "name": "python3"
  },
  "language_info": {
   "codemirror_mode": {
    "name": "ipython",
    "version": 3
   },
   "file_extension": ".py",
   "mimetype": "text/x-python",
   "name": "python",
   "nbconvert_exporter": "python",
   "pygments_lexer": "ipython3",
   "version": "3.10.12"
  }
 },
 "nbformat": 4,
 "nbformat_minor": 5
}
